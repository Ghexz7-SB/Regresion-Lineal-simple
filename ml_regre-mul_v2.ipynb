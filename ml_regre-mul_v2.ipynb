{
 "cells": [
  {
   "cell_type": "markdown",
   "metadata": {
    "isInteractiveWindowMessageCell": true
   },
   "source": [
    "Connected to Python"
   ]
  },
  {
   "cell_type": "code",
   "execution_count": 9,
   "metadata": {},
   "outputs": [],
   "source": [
    "import numpy as np\n",
    "import pandas as pd\n",
    "import matplotlib.pyplot as plt\n",
    "from sklearn.linear_model import LinearRegression"
   ]
  },
  {
   "cell_type": "code",
   "execution_count": 10,
   "metadata": {},
   "outputs": [],
   "source": [
    "df=pd.read_csv('kc_house_train_data.csv')"
   ]
  },
  {
   "cell_type": "markdown",
   "metadata": {},
   "source": [
    "Funcion para obtener una matriz de observaciones y el vector de resultados\n"
   ]
  },
  {
   "cell_type": "code",
   "execution_count": 11,
   "metadata": {},
   "outputs": [],
   "source": [
    "def get_numpy_data(data_sframe,features,output):\n",
    "    data_sframe['constant']=1 #agregamos un columna de 1 , este coeficientemultiplica al intercepto\n",
    "    features=['constant']+features\n",
    "    features_matrix=data_sframe[features].to_numpy()\n",
    "    output_array=data_sframe[output].to_numpy()\n",
    "    return(features_matrix,output_array)"
   ]
  },
  {
   "cell_type": "markdown",
   "metadata": {},
   "source": [
    "Funcion para obtener las predicciones"
   ]
  },
  {
   "cell_type": "code",
   "execution_count": 12,
   "metadata": {},
   "outputs": [],
   "source": [
    "def predict_outcome(feature_matrix,weights):\n",
    "    predictions=np.dot(feature_matrix,weights)\n",
    "    return predictions"
   ]
  },
  {
   "cell_type": "code",
   "execution_count": 13,
   "metadata": {},
   "outputs": [
    {
     "data": {
      "text/plain": [
       "array([10.  , 13.75,  8.  , ..., 14.5 , 14.5 ,  7.25])"
      ]
     },
     "execution_count": 13,
     "metadata": {},
     "output_type": "execute_result"
    }
   ],
   "source": [
    "#ejemplo de uso de las funciones anteriores (no usa los datos del dataframe)\n",
    "try1=get_numpy_data(df,['bedrooms','bathrooms'],['price'])[0]\n",
    "predict_outcome(try1,np.array([1,2,3]))\n"
   ]
  },
  {
   "cell_type": "markdown",
   "metadata": {},
   "source": [
    "Funcion para obtener la derivada de una caracteristica"
   ]
  },
  {
   "cell_type": "code",
   "execution_count": 6,
   "metadata": {},
   "outputs": [],
   "source": [
    "def feature_derivative(feature,errors):\n",
    "    derivative=2*np.dot(np.array(feature),np.array(errors))\n",
    "    return derivative"
   ]
  },
  {
   "cell_type": "markdown",
   "metadata": {},
   "source": [
    "Funcion de gradiente descendiente"
   ]
  },
  {
   "cell_type": "code",
   "execution_count": 14,
   "metadata": {},
   "outputs": [],
   "source": [
    "def regression_gradient_descent(feature_matrix,output,initial_weights,step_size,tolerance):\n",
    "    converged=False\n",
    "    weights=np.array(initial_weights)\n",
    "    while converged==False:\n",
    "        errors=output-np.dot(feature_matrix,weights)\n",
    "        gradient=-2*(np.dot(feature_matrix.T,errors)) #chekar la observación\n",
    "        weights=weights-step_size*gradient\n",
    "        gradient_magnitude=np.linalg.norm(gradient)\n",
    "        if gradient_magnitude<tolerance:\n",
    "            converged=True\n",
    "    return weights"
   ]
  },
  {
   "cell_type": "markdown",
   "metadata": {},
   "source": [
    "# Observación"
   ]
  },
  {
   "cell_type": "markdown",
   "metadata": {},
   "source": [
    "matematicamente se concluyo que la gradiente para una matriz de caracteristicas es : -2 * Matriz de caract.transpuesta * errores . Entiendase por errores como a la resta en etre el valor real y la predicción con determinados pesos "
   ]
  },
  {
   "cell_type": "markdown",
   "metadata": {},
   "source": [
    "# Enfoque RIDGE con la gradiente descendiente"
   ]
  },
  {
   "cell_type": "code",
   "execution_count": 15,
   "metadata": {},
   "outputs": [],
   "source": [
    "def rgr_gd_ridge(feature_matrix,output,initial_weights,alpha,step_size,tolerance):\n",
    "    converged=False\n",
    "    weights=np.array(initial_weights)\n",
    "    while converged==False:\n",
    "        errors=output-np.dot(feature_matrix,weights)\n",
    "        gradient=-2*(np.dot(feature_matrix.T,errors)) \n",
    "        weights=weights*(1-2*step_size*alpha)-step_size*gradient\n",
    "        gradient_magnitude=np.linalg.norm(gradient)\n",
    "        if gradient_magnitude<tolerance:\n",
    "            converged=True\n",
    "    return weights"
   ]
  },
  {
   "cell_type": "markdown",
   "metadata": {},
   "source": [
    "Pruebas"
   ]
  },
  {
   "cell_type": "code",
   "execution_count": 16,
   "metadata": {},
   "outputs": [],
   "source": [
    "#estructuramos los datos (atencion en como deben ser ingresados los parametros de estas funciones)\n",
    "matriz=get_numpy_data(df,['sqft_living','sqft_living15'],'price')[0]\n",
    "salida=get_numpy_data(df,['sqft_living','sqft_living15'],'price')[1]"
   ]
  },
  {
   "cell_type": "code",
   "execution_count": 17,
   "metadata": {},
   "outputs": [
    {
     "data": {
      "text/plain": [
       "array([221900., 538000., 180000., ..., 360000., 400000., 325000.])"
      ]
     },
     "execution_count": 17,
     "metadata": {},
     "output_type": "execute_result"
    }
   ],
   "source": [
    "#una pequeña prueba de como es que salen los datos\n",
    "get_numpy_data(df,['sqft_living','sqft_living15'],'price')[1]"
   ]
  },
  {
   "cell_type": "markdown",
   "metadata": {},
   "source": [
    "Probamos para el enfoque de la gradiente descendiente unicamente, la gradiente descendiente RIDGE y usando la librería sklearn para comparar"
   ]
  },
  {
   "cell_type": "code",
   "execution_count": 18,
   "metadata": {},
   "outputs": [
    {
     "data": {
      "text/plain": [
       "array([-9.99999688e+04,  2.45072603e+02,  6.52795267e+01])"
      ]
     },
     "execution_count": 18,
     "metadata": {},
     "output_type": "execute_result"
    }
   ],
   "source": [
    "regression_gradient_descent(matriz,salida,[-100000, 1, 1],4e-12,1e9)"
   ]
  },
  {
   "cell_type": "code",
   "execution_count": 19,
   "metadata": {},
   "outputs": [
    {
     "data": {
      "text/plain": [
       "array([-9.99999419e+04,  2.45072599e+02,  6.52795195e+01])"
      ]
     },
     "execution_count": 19,
     "metadata": {},
     "output_type": "execute_result"
    }
   ],
   "source": [
    "rgr_gd_ridge(matriz,salida,[-100000, 1, 1],1.23e2,4e-12,1e9)"
   ]
  },
  {
   "cell_type": "code",
   "execution_count": 22,
   "metadata": {},
   "outputs": [
    {
     "data": {
      "text/plain": [
       "array([245.18871442,  65.27158522])"
      ]
     },
     "execution_count": 22,
     "metadata": {},
     "output_type": "execute_result"
    }
   ],
   "source": [
    "rgr_lib=LinearRegression()\n",
    "rgr_lib.fit(df[['sqft_living','sqft_living15']],salida)\n",
    "rgr_lib.coef_"
   ]
  },
  {
   "cell_type": "code",
   "execution_count": 23,
   "metadata": {},
   "outputs": [
    {
     "data": {
      "text/plain": [
       "-100262.17515853501"
      ]
     },
     "execution_count": 23,
     "metadata": {},
     "output_type": "execute_result"
    }
   ],
   "source": [
    "rgr_lib.intercept_"
   ]
  },
  {
   "cell_type": "markdown",
   "metadata": {},
   "source": [
    "Notamos que por en todos los  enfoques se obtiene los pesos bastantes similares , siendo que el enfoque ridge mejora la gradiente descendiente "
   ]
  }
 ],
 "metadata": {
  "kernelspec": {
   "display_name": "Python 3",
   "language": "python",
   "name": "python3"
  },
  "language_info": {
   "codemirror_mode": {
    "name": "ipython",
    "version": 3
   },
   "file_extension": ".py",
   "mimetype": "text/x-python",
   "name": "python",
   "nbconvert_exporter": "python",
   "pygments_lexer": "ipython3",
   "version": "3.8.5"
  }
 },
 "nbformat": 4,
 "nbformat_minor": 2
}
